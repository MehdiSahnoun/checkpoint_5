{
 "cells": [
  {
   "cell_type": "code",
   "execution_count": 9,
   "id": "56f55975-2eab-4e4a-8ec7-000955cc38b9",
   "metadata": {
    "jupyter": {
     "source_hidden": true
    },
    "tags": []
   },
   "outputs": [
    {
     "name": "stdout",
     "output_type": "stream",
     "text": [
      "c is bigger than a and b\n",
      "None\n"
     ]
    }
   ],
   "source": [
    "def max(a,b,c):\n",
    "    if (a >= b) and (a >= c):\n",
    "        print('a is bigger than b and c')\n",
    "    elif (b >=a) and (b >= c):\n",
    "        print('b is bigger than a and c')\n",
    "    elif (c >= a) and (c >= b):\n",
    "        print('c is bigger than a and b')\n",
    "a=100\n",
    "b=200\n",
    "c=300\n",
    "print(max(a, b, c))"
   ]
  },
  {
   "cell_type": "markdown",
   "id": "4990f36c-1a9d-4267-8a72-2b15dd70c26f",
   "metadata": {},
   "source": [
    "QUESTION2"
   ]
  },
  {
   "cell_type": "code",
   "execution_count": 1,
   "id": "0c47184b-78ad-49a9-a6a2-31b8fb847fc4",
   "metadata": {
    "jupyter": {
     "source_hidden": true
    },
    "tags": []
   },
   "outputs": [
    {
     "name": "stdout",
     "output_type": "stream",
     "text": [
      "(50, 30)\n"
     ]
    }
   ],
   "source": [
    "def calculation(a, b):\n",
    "    addition = a + b\n",
    "    subtraction = a - b\n",
    "    return addition, subtraction\n",
    "res = calculation(40, 10)\n",
    "print(res)"
   ]
  },
  {
   "cell_type": "code",
   "execution_count": 3,
   "id": "39659a5c-7e47-42df-9919-c56bf19dd380",
   "metadata": {},
   "outputs": [],
   "source": [
    "#QUESTION3"
   ]
  },
  {
   "cell_type": "code",
   "execution_count": 24,
   "id": "a1a624b9-f15a-4209-9a26-c925532764bd",
   "metadata": {
    "jupyter": {
     "source_hidden": true
    },
    "tags": []
   },
   "outputs": [],
   "source": [
    "def somme(liste):\n",
    "    s=0\n",
    "    for i in liste:\n",
    "        s+=i\n",
    "    return s\n"
   ]
  },
  {
   "cell_type": "code",
   "execution_count": 25,
   "id": "71ce30da-011d-4abe-8a99-1990ed94592b",
   "metadata": {},
   "outputs": [
    {
     "data": {
      "text/plain": [
       "6"
      ]
     },
     "execution_count": 25,
     "metadata": {},
     "output_type": "execute_result"
    }
   ],
   "source": [
    "l=[1,2,0,3]\n",
    "somme(l)"
   ]
  },
  {
   "cell_type": "code",
   "execution_count": 29,
   "id": "37eaaccc-1d5d-4400-84e4-be77d4e45d8a",
   "metadata": {
    "jupyter": {
     "source_hidden": true
    },
    "tags": []
   },
   "outputs": [],
   "source": [
    "def multiplication(liste):\n",
    "    s=1\n",
    "    for i in liste:\n",
    "        s*=i\n",
    "    return s"
   ]
  },
  {
   "cell_type": "code",
   "execution_count": 30,
   "id": "ce70343a-f52d-4439-9091-782c6a362e39",
   "metadata": {},
   "outputs": [
    {
     "data": {
      "text/plain": [
       "90"
      ]
     },
     "execution_count": 30,
     "metadata": {},
     "output_type": "execute_result"
    }
   ],
   "source": [
    "m=[9,5,2]\n",
    "multiplication(m)"
   ]
  },
  {
   "cell_type": "code",
   "execution_count": 51,
   "id": "5d6d9d27-8003-45e7-a9c2-da35cd112c59",
   "metadata": {
    "jupyter": {
     "source_hidden": true
    },
    "tags": []
   },
   "outputs": [
    {
     "ename": "SyntaxError",
     "evalue": "'return' outside function (<ipython-input-51-1127438502cc>, line 2)",
     "output_type": "error",
     "traceback": [
      "\u001b[1;36m  File \u001b[1;32m\"<ipython-input-51-1127438502cc>\"\u001b[1;36m, line \u001b[1;32m2\u001b[0m\n\u001b[1;33m    return somme(list)\u001b[0m\n\u001b[1;37m    ^\u001b[0m\n\u001b[1;31mSyntaxError\u001b[0m\u001b[1;31m:\u001b[0m 'return' outside function\n"
     ]
    }
   ],
   "source": [
    "if(l%2)==0:\n",
    "    return somme \n",
    "else:\n",
    "    return multiplication(l)\n",
    "            "
   ]
  },
  {
   "cell_type": "code",
   "execution_count": 47,
   "id": "abe11529-1164-4e80-a7ab-9a85b95535d8",
   "metadata": {},
   "outputs": [],
   "source": [
    "l=[5,7,9]"
   ]
  },
  {
   "cell_type": "code",
   "execution_count": 52,
   "id": "90f5ac6d-b3ee-451a-bd1b-8d424c2ff590",
   "metadata": {},
   "outputs": [],
   "source": [
    "#QUESTION 4"
   ]
  },
  {
   "cell_type": "code",
   "execution_count": 62,
   "id": "a355ece6-88aa-48de-9828-c95267d95a88",
   "metadata": {
    "jupyter": {
     "source_hidden": true
    },
    "tags": []
   },
   "outputs": [
    {
     "name": "stdin",
     "output_type": "stream",
     "text": [
      " more*kilo*taste\n"
     ]
    },
    {
     "name": "stdout",
     "output_type": "stream",
     "text": [
      "kilo-more-taste\n"
     ]
    }
   ],
   "source": [
    "items=[n for n in input().split('*')]\n",
    "items.sort()\n",
    "print('-'.join(items))"
   ]
  },
  {
   "cell_type": "code",
   "execution_count": 59,
   "id": "43ead177-e088-4e46-9340-6d55aaae6981",
   "metadata": {
    "tags": []
   },
   "outputs": [],
   "source": [
    "#QUESTION 5"
   ]
  },
  {
   "cell_type": "code",
   "execution_count": 83,
   "id": "a922c7e5-c85a-42fa-9df5-49e93e590519",
   "metadata": {},
   "outputs": [
    {
     "name": "stdin",
     "output_type": "stream",
     "text": [
      "Provide D:  28\n"
     ]
    },
    {
     "name": "stdout",
     "output_type": "stream",
     "text": [
      "[10]\n"
     ]
    }
   ],
   "source": [
    "import math\n",
    "\n",
    "numbers = input(\"Provide D: \")\n",
    "numbers = numbers.split(',')\n",
    "result_list = []\n",
    "for D in numbers:\n",
    "    Q = round(math.sqrt(2 * 50 * int(D) / 30))\n",
    "    result_list.append(Q)\n",
    "\n",
    "print(result_list)"
   ]
  },
  {
   "cell_type": "code",
   "execution_count": null,
   "id": "788aaebd-5bd1-4c82-808d-fe904ca8e1f4",
   "metadata": {},
   "outputs": [],
   "source": []
  }
 ],
 "metadata": {
  "kernelspec": {
   "display_name": "Python 3",
   "language": "python",
   "name": "python3"
  },
  "language_info": {
   "codemirror_mode": {
    "name": "ipython",
    "version": 3
   },
   "file_extension": ".py",
   "mimetype": "text/x-python",
   "name": "python",
   "nbconvert_exporter": "python",
   "pygments_lexer": "ipython3",
   "version": "3.8.8"
  }
 },
 "nbformat": 4,
 "nbformat_minor": 5
}
